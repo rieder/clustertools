{
 "cells": [
  {
   "cell_type": "code",
   "execution_count": 79,
   "id": "880bc59b-3697-4af8-a246-f3a23d6f233d",
   "metadata": {},
   "outputs": [],
   "source": [
    "#from sklearn.neighbors import KDTree\n",
    "from scipy import spatial as sp\n",
    "\n",
    "\n",
    "import clustertools as ctools\n",
    "import numpy as np\n",
    "import matplotlib.pyplot as plt"
   ]
  },
  {
   "cell_type": "code",
   "execution_count": 29,
   "id": "8f17faa4-1e31-4c02-9b43-7a6b87bacb9b",
   "metadata": {},
   "outputs": [
    {
     "name": "stdout",
     "output_type": "stream",
     "text": [
      "LOAD_CLUSTER MADE USE OF:\n",
      "Gieles, M. & Zocchi, A. 2015, MNRAS, 454, 576\n",
      "Vasiliev E., 2019, MNRAS, 484,2832 \n",
      "de Boer, T. J. L., Gieles, M., Balbinot, E., Hénault-Brunet, V., Sollima, A., Watkins, L. L., Claydon, I. 2019, MNRAS, 485, 4906\n"
     ]
    }
   ],
   "source": [
    "cluster=ctools.load_cluster(ctype='limepy',gcname='NGC6101',mbar=0.2,units='pckms',origin='cluster')"
   ]
  },
  {
   "cell_type": "code",
   "execution_count": 30,
   "id": "d72eb962-300e-498d-a51e-96dfa71033b2",
   "metadata": {},
   "outputs": [
    {
     "data": {
      "text/plain": [
       "9681"
      ]
     },
     "execution_count": 30,
     "metadata": {},
     "output_type": "execute_result"
    }
   ],
   "source": [
    "cluster.ntot"
   ]
  },
  {
   "cell_type": "code",
   "execution_count": 31,
   "id": "7b34f80e-6865-46b3-8a46-80ac30660942",
   "metadata": {},
   "outputs": [
    {
     "data": {
      "text/plain": [
       "array([ 0.20001363,  0.20001363,  0.20001363, ...,  0.20001363,\n",
       "        0.20001363,  0.20001363])"
      ]
     },
     "execution_count": 31,
     "metadata": {},
     "output_type": "execute_result"
    }
   ],
   "source": [
    "cluster.m"
   ]
  },
  {
   "cell_type": "code",
   "execution_count": 83,
   "id": "f075d3e1-07ea-4638-81b8-3cdb3ce92a4f",
   "metadata": {},
   "outputs": [],
   "source": [
    "pos=np.column_stack([cluster.x,cluster.y,cluster.z])\n",
    "vel=np.column_stack([cluster.vx,cluster.vy,cluster.vz])\n",
    "\n",
    "#tree=KDTree(pos)\n",
    "tree=sp.cKDTree(pos)"
   ]
  },
  {
   "cell_type": "code",
   "execution_count": 84,
   "id": "3ab0c6d8-f4ba-4a2a-9498-435de8b88760",
   "metadata": {},
   "outputs": [],
   "source": [
    "amin=np.argmin(cluster.r)"
   ]
  },
  {
   "cell_type": "code",
   "execution_count": 87,
   "id": "d5bbc328-1079-44b3-a655-477f56587742",
   "metadata": {},
   "outputs": [],
   "source": [
    "nb_r_list6, nb_index_list6 = tree.query(pos, 7)"
   ]
  },
  {
   "cell_type": "code",
   "execution_count": 104,
   "id": "c5e162b6-1ae5-40c2-a819-4138b8b4b0ec",
   "metadata": {},
   "outputs": [
    {
     "data": {
      "text/plain": [
       "array([[  0.        ,   7.64057551,   8.54963315, ...,   9.94314467,\n",
       "         10.25225123,  11.38893458],\n",
       "       [  0.        ,   1.09907084,   1.87062306, ...,   2.30739801,\n",
       "          2.32750572,   2.40660324],\n",
       "       [  0.        ,   2.2233583 ,   3.55335161, ...,   4.86747623,\n",
       "          4.97030096,   5.10367651],\n",
       "       ..., \n",
       "       [  0.        ,   1.37772082,   1.48581835, ...,   1.58812228,\n",
       "          1.69213645,   1.69807222],\n",
       "       [  0.        ,   1.30501865,   1.49333249, ...,   2.20234327,\n",
       "          2.21806778,   2.51805845],\n",
       "       [  0.        ,   5.00345842,   6.41760365, ...,   8.54805841,\n",
       "          8.59354348,  10.15197347]])"
      ]
     },
     "execution_count": 104,
     "metadata": {},
     "output_type": "execute_result"
    }
   ],
   "source": [
    "nb_r_list6"
   ]
  },
  {
   "cell_type": "code",
   "execution_count": 105,
   "id": "b0cb8bf0-4abf-426e-bf50-f05750f493e5",
   "metadata": {},
   "outputs": [
    {
     "data": {
      "text/plain": [
       "array([ 11.38893458,   2.40660324,   5.10367651, ...,   1.69807222,\n",
       "         2.51805845,  10.15197347])"
      ]
     },
     "execution_count": 105,
     "metadata": {},
     "output_type": "execute_result"
    }
   ],
   "source": [
    "nb_r_list6[:,-1]"
   ]
  },
  {
   "cell_type": "code",
   "execution_count": 88,
   "id": "f3ce8957-aa0c-472d-9cc1-b5af77866593",
   "metadata": {},
   "outputs": [
    {
     "data": {
      "text/plain": [
       "array([   0, 8759, 1746, 8880, 5076, 7638, 6008])"
      ]
     },
     "execution_count": 88,
     "metadata": {},
     "output_type": "execute_result"
    }
   ],
   "source": [
    "nb_index_list6[0]"
   ]
  },
  {
   "cell_type": "code",
   "execution_count": 96,
   "id": "06dae043-d82c-4a9a-8c26-87b9059c0d8f",
   "metadata": {},
   "outputs": [
    {
     "data": {
      "text/plain": [
       "array([[   0, 8759, 1746, ..., 5076, 7638, 6008],\n",
       "       [   1, 9435, 4279, ..., 5773, 9213, 7133],\n",
       "       [   2, 3393,  296, ..., 3142, 9196, 7234],\n",
       "       ..., \n",
       "       [9678, 9150,  577, ..., 7036, 2748, 4681],\n",
       "       [9679, 4033, 6579, ..., 8085, 9061, 7079],\n",
       "       [9680,  572, 9283, ..., 5408, 2377, 5976]])"
      ]
     },
     "execution_count": 96,
     "metadata": {},
     "output_type": "execute_result"
    }
   ],
   "source": [
    "nb_index_list6"
   ]
  },
  {
   "cell_type": "code",
   "execution_count": 103,
   "id": "db4922cf-7f29-495a-a754-94e3ad2f67f9",
   "metadata": {},
   "outputs": [
    {
     "data": {
      "text/plain": [
       "array([6008, 7133, 7234, ..., 4681, 7079, 5976])"
      ]
     },
     "execution_count": 103,
     "metadata": {},
     "output_type": "execute_result"
    }
   ],
   "source": [
    "nb_index_list6[:,-1]"
   ]
  },
  {
   "cell_type": "code",
   "execution_count": 93,
   "id": "afa54e45-ce49-4384-8662-eb34be0948db",
   "metadata": {},
   "outputs": [
    {
     "data": {
      "text/plain": [
       "array([[ 0.20001363,  0.20001363,  0.20001363, ...,  0.20001363,\n",
       "         0.20001363,  0.20001363],\n",
       "       [ 0.20001363,  0.20001363,  0.20001363, ...,  0.20001363,\n",
       "         0.20001363,  0.20001363],\n",
       "       [ 0.20001363,  0.20001363,  0.20001363, ...,  0.20001363,\n",
       "         0.20001363,  0.20001363],\n",
       "       ..., \n",
       "       [ 0.20001363,  0.20001363,  0.20001363, ...,  0.20001363,\n",
       "         0.20001363,  0.20001363],\n",
       "       [ 0.20001363,  0.20001363,  0.20001363, ...,  0.20001363,\n",
       "         0.20001363,  0.20001363],\n",
       "       [ 0.20001363,  0.20001363,  0.20001363, ...,  0.20001363,\n",
       "         0.20001363,  0.20001363]])"
      ]
     },
     "execution_count": 93,
     "metadata": {},
     "output_type": "execute_result"
    }
   ],
   "source": [
    "cluster.m[nb_index_list6[:-1]]"
   ]
  },
  {
   "cell_type": "code",
   "execution_count": 62,
   "id": "c616126b-4ee8-4cfa-b340-30b84f922f18",
   "metadata": {},
   "outputs": [],
   "source": [
    "nb_mass_tot6=np.sum(cluster.m[nb_index_list6],axis=1) + cluster.m\n",
    "nb_inv_r6 = 1/nb_r_list6[:,5]\n",
    "rho = nb_mass_tot6*(nb_inv_r6*nb_inv_r6*nb_inv_r6)\n",
    "rho_tot = rho.sum()\n",
    "\n",
    "cm_pos = np.array([np.sum(rho*pos[:,i])/rho_tot for i in range(3)])\n",
    "cm_vel = np.array([np.sum(rho*vel[:,i])/rho_tot for i in range(3)])"
   ]
  },
  {
   "cell_type": "code",
   "execution_count": 89,
   "id": "8baec0b8-bb4f-4f49-9f00-06b54e56e3f6",
   "metadata": {},
   "outputs": [
    {
     "data": {
      "text/plain": [
       "10466.166772867224"
      ]
     },
     "execution_count": 89,
     "metadata": {},
     "output_type": "execute_result"
    }
   ],
   "source": [
    "rho.sum()"
   ]
  },
  {
   "cell_type": "code",
   "execution_count": 90,
   "id": "c4cd7e59-cfb0-4780-8c57-503f2fe6c442",
   "metadata": {},
   "outputs": [
    {
     "data": {
      "text/plain": [
       "10466.166772867224"
      ]
     },
     "execution_count": 90,
     "metadata": {},
     "output_type": "execute_result"
    }
   ],
   "source": [
    "np.sum(rho)"
   ]
  },
  {
   "cell_type": "code",
   "execution_count": 64,
   "id": "132531f5-d49f-42e2-a5be-591031769f4e",
   "metadata": {},
   "outputs": [
    {
     "data": {
      "text/plain": [
       "(array([ 0.03462265, -0.04598183,  0.04777895]),\n",
       " array([ 0.00260841, -0.00257559, -0.0096254 ]))"
      ]
     },
     "execution_count": 64,
     "metadata": {},
     "output_type": "execute_result"
    }
   ],
   "source": [
    "cm_pos,cm_vel"
   ]
  },
  {
   "cell_type": "code",
   "execution_count": 65,
   "id": "e719631d-c078-46ca-b4b9-871fbf1195db",
   "metadata": {},
   "outputs": [
    {
     "data": {
      "text/plain": [
       "(0.17758658133263633,\n",
       " -0.086653319526648523,\n",
       " 0.31921413848456753,\n",
       " -0.036730880502808053,\n",
       " -0.0017829016100591524,\n",
       " -0.029559483847890214)"
      ]
     },
     "execution_count": 65,
     "metadata": {},
     "output_type": "execute_result"
    }
   ],
   "source": [
    "cluster.find_centre()"
   ]
  },
  {
   "cell_type": "code",
   "execution_count": 75,
   "id": "208dbab4-7caa-4555-b919-b5869aec022a",
   "metadata": {},
   "outputs": [
    {
     "data": {
      "text/plain": [
       "(-1.0, 1.0)"
      ]
     },
     "execution_count": 75,
     "metadata": {},
     "output_type": "execute_result"
    },
    {
     "data": {
      "image/png": "[encoded data removed]",
      "text/plain": [
       "<Figure size 360x360 with 1 Axes>"
      ]
     },
     "metadata": {
      "needs_background": "light"
     },
     "output_type": "display_data"
    }
   ],
   "source": [
    "plt.scatter(cluster.x,cluster.y)\n",
    "plt.scatter(cm_pos[0],cm_pos[1])\n",
    "plt.scatter(cluster.xc,cluster.yc)\n",
    "plt.xlim(-1,1)\n",
    "plt.ylim(-1,1)"
   ]
  },
  {
   "cell_type": "code",
   "execution_count": 66,
   "id": "ad56d172-ce13-4de6-9946-84d01e8dd2a7",
   "metadata": {},
   "outputs": [
    {
     "data": {
      "text/plain": [
       "9681"
      ]
     },
     "execution_count": 66,
     "metadata": {},
     "output_type": "execute_result"
    }
   ],
   "source": [
    "len(rho)"
   ]
  },
  {
   "cell_type": "code",
   "execution_count": 67,
   "id": "03652b19-75c0-4e2e-91a3-77625efaaaaa",
   "metadata": {},
   "outputs": [
    {
     "name": "stdout",
     "output_type": "stream",
     "text": [
      "3.52635068336\n"
     ]
    }
   ],
   "source": [
    "rho2 = rho*rho\n",
    "r2=(cluster.r**2.)\n",
    "rc = np.sqrt((r2*rho2).sum()/(rho2.sum()))\n",
    "print(rc)"
   ]
  },
  {
   "cell_type": "code",
   "execution_count": 43,
   "id": "770a0a65-c343-41da-84ee-3721ebd922df",
   "metadata": {},
   "outputs": [
    {
     "data": {
      "text/plain": [
       "0"
      ]
     },
     "execution_count": 43,
     "metadata": {},
     "output_type": "execute_result"
    },
    {
     "data": {
      "image/png": "[encoded data removed]",
      "text/plain": [
       "<Figure size 360x360 with 2 Axes>"
      ]
     },
     "metadata": {
      "needs_background": "light"
     },
     "output_type": "display_data"
    }
   ],
   "source": [
    "ctools.starplot(cluster)"
   ]
  },
  {
   "cell_type": "code",
   "execution_count": 38,
   "id": "5583c4ce-0c38-4020-aee2-6e4c62a1d7dd",
   "metadata": {},
   "outputs": [
    {
     "data": {
      "text/plain": [
       "45.372042682859657"
      ]
     },
     "execution_count": 38,
     "metadata": {},
     "output_type": "execute_result"
    }
   ],
   "source": [
    "cluster.r[0]"
   ]
  },
  {
   "cell_type": "code",
   "execution_count": null,
   "id": "053f112b-2378-4229-9790-d71bf55c0eb9",
   "metadata": {},
   "outputs": [],
   "source": []
  }
 ],
 "metadata": {
  "kernelspec": {
   "display_name": "Python 3",
   "language": "python",
   "name": "python3"
  },
  "language_info": {
   "codemirror_mode": {
    "name": "ipython",
    "version": 3
   },
   "file_extension": ".py",
   "mimetype": "text/x-python",
   "name": "python",
   "nbconvert_exporter": "python",
   "pygments_lexer": "ipython3",
   "version": "3.9.1"
  }
 },
 "nbformat": 4,
 "nbformat_minor": 5
}
